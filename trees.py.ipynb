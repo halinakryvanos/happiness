{
 "cells": [
  {
   "cell_type": "code",
   "execution_count": 1,
   "id": "95e516de",
   "metadata": {
    "ExecuteTime": {
     "end_time": "2023-07-17T18:34:17.226651Z",
     "start_time": "2023-07-17T18:34:11.158267Z"
    }
   },
   "outputs": [],
   "source": [
    "import matplotlib.pyplot as plt\n",
    "import numpy as np\n",
    "import pandas as pd\n",
    "import os\n",
    "from sklearn import tree\n",
    "from sklearn.model_selection import cross_validate\n",
    "from sklearn.preprocessing import StandardScaler\n",
    "from sklearn.ensemble import RandomForestRegressor\n",
    "from sklearn.metrics import mean_squared_error\n",
    "from sklearn.model_selection import KFold\n",
    "from statistics import mean\n",
    "from sklearn import linear_model"
   ]
  },
  {
   "cell_type": "code",
   "execution_count": 2,
   "id": "cafaf5c4",
   "metadata": {
    "ExecuteTime": {
     "end_time": "2023-07-17T18:34:17.237940Z",
     "start_time": "2023-07-17T18:34:17.231006Z"
    }
   },
   "outputs": [],
   "source": [
    "path = r'/Users/macbook/Library/CloudStorage/OneDrive-Personal/Data Analisys/Happiness'"
   ]
  },
  {
   "cell_type": "code",
   "execution_count": 3,
   "id": "eaa70785",
   "metadata": {
    "ExecuteTime": {
     "end_time": "2023-07-17T18:34:17.259638Z",
     "start_time": "2023-07-17T18:34:17.246923Z"
    }
   },
   "outputs": [],
   "source": [
    "# Import data\n",
    "df = pd.read_csv(os.path.join(path, '2019.csv'))"
   ]
  },
  {
   "cell_type": "code",
   "execution_count": 4,
   "id": "38372862",
   "metadata": {
    "ExecuteTime": {
     "end_time": "2023-07-17T18:34:17.273309Z",
     "start_time": "2023-07-17T18:34:17.266429Z"
    }
   },
   "outputs": [],
   "source": [
    "features = df[['GDP per capita', 'Social support', 'Healthy life expectancy', 'Freedom to make life choices','Generosity', 'Perceptions of corruption']]\n",
    "happiness = df['Score']\n"
   ]
  },
  {
   "cell_type": "code",
   "execution_count": 5,
   "id": "59f87dd1",
   "metadata": {
    "ExecuteTime": {
     "end_time": "2023-07-17T18:34:17.289186Z",
     "start_time": "2023-07-17T18:34:17.276370Z"
    }
   },
   "outputs": [
    {
     "name": "stdout",
     "output_type": "stream",
     "text": [
      "mean squared error of decision tree:  0.0\n"
     ]
    }
   ],
   "source": [
    "decision_tree = tree.DecisionTreeRegressor(random_state=0)\n",
    "decision_tree.fit(features, happiness)\n",
    "hypothesis = decision_tree.predict(features)\n",
    "mean_squared_error_dt = mean_squared_error(hypothesis, happiness)\n",
    "print('mean squared error of decision tree: ', mean_squared_error_dt)"
   ]
  },
  {
   "cell_type": "code",
   "execution_count": 6,
   "id": "c80cc262",
   "metadata": {
    "ExecuteTime": {
     "end_time": "2023-07-17T18:34:17.418269Z",
     "start_time": "2023-07-17T18:34:17.292545Z"
    }
   },
   "outputs": [
    {
     "name": "stdout",
     "output_type": "stream",
     "text": [
      "mean squared error of random forest:  0.035981199678205046\n"
     ]
    }
   ],
   "source": [
    "random_forest = RandomForestRegressor(n_estimators=100, random_state=0)\n",
    "random_forest.fit(features, happiness)\n",
    "hypothesis = random_forest.predict(features)\n",
    "mean_squared_error_rf = mean_squared_error(hypothesis, happiness)\n",
    "print('mean squared error of random forest: ', mean_squared_error_rf)"
   ]
  },
  {
   "cell_type": "code",
   "execution_count": 7,
   "id": "b8375392",
   "metadata": {
    "ExecuteTime": {
     "end_time": "2023-07-17T18:34:17.423688Z",
     "start_time": "2023-07-17T18:34:17.420706Z"
    }
   },
   "outputs": [],
   "source": [
    "kfold = KFold(n_splits=5)"
   ]
  },
  {
   "cell_type": "code",
   "execution_count": 10,
   "id": "e543af48",
   "metadata": {
    "ExecuteTime": {
     "end_time": "2023-07-17T18:37:10.423603Z",
     "start_time": "2023-07-17T18:37:10.416837Z"
    }
   },
   "outputs": [],
   "source": [
    "def kfold_for_decision_tree():\n",
    "    mean_squarred = []\n",
    "    for train_indices, test_indices in kfold.split(features, happiness):\n",
    "        decision_tree = tree.DecisionTreeRegressor(random_state = 0)\n",
    "        decision_tree.fit(features.loc[train_indices], happiness.loc[train_indices])\n",
    "        predictions = decision_tree.predict(features.loc[test_indices])\n",
    "        mse = mean_squared_error(predictions, happiness.loc[test_indices])\n",
    "        mean_squarred.append(mse)"
   ]
  },
  {
   "cell_type": "code",
   "execution_count": 15,
   "id": "421d1353",
   "metadata": {
    "ExecuteTime": {
     "end_time": "2023-07-17T18:40:18.679493Z",
     "start_time": "2023-07-17T18:40:18.638066Z"
    }
   },
   "outputs": [
    {
     "ename": "NameError",
     "evalue": "name 'mean_squarred' is not defined",
     "output_type": "error",
     "traceback": [
      "\u001b[0;31m---------------------------------------------------------------------------\u001b[0m",
      "\u001b[0;31mNameError\u001b[0m                                 Traceback (most recent call last)",
      "Cell \u001b[0;32mIn[15], line 1\u001b[0m\n\u001b[0;32m----> 1\u001b[0m \u001b[38;5;28mprint\u001b[39m(\u001b[38;5;124m'\u001b[39m\u001b[38;5;124mDecision Tree KFold Average\u001b[39m\u001b[38;5;124m'\u001b[39m, \u001b[38;5;28mround\u001b[39m(mean(\u001b[43mmean_squarred\u001b[49m), \u001b[38;5;241m2\u001b[39m))\n",
      "\u001b[0;31mNameError\u001b[0m: name 'mean_squarred' is not defined"
     ]
    }
   ],
   "source": [
    "print('Decision Tree KFold Average', round(mean(mean_squarred), 2))"
   ]
  },
  {
   "cell_type": "code",
   "execution_count": 12,
   "id": "9f7b88b0",
   "metadata": {
    "ExecuteTime": {
     "end_time": "2023-07-17T18:37:31.053522Z",
     "start_time": "2023-07-17T18:37:31.017656Z"
    }
   },
   "outputs": [],
   "source": [
    "kfold_for_decision_tree()"
   ]
  },
  {
   "cell_type": "code",
   "execution_count": 13,
   "id": "ca7288f8",
   "metadata": {
    "ExecuteTime": {
     "end_time": "2023-07-17T18:37:32.154637Z",
     "start_time": "2023-07-17T18:37:32.147491Z"
    }
   },
   "outputs": [],
   "source": [
    "def kfold_for_mutiple_linear_regression():\n",
    "    mean_squarred = []\n",
    "    for train_indices, test_indices in kfold.split(features, happiness):\n",
    "        model = linear_model.LinearRegression()\n",
    "        model.fit(features.loc[train_indices], happiness.loc[train_indices])\n",
    "        predictions = model.predict(features.loc[test_indices])\n",
    "        mse = mean_squared_error(predictions, happiness.loc[test_indices])\n",
    "        mean_squarred.append(mse)"
   ]
  },
  {
   "cell_type": "code",
   "execution_count": 14,
   "id": "88ab2f17",
   "metadata": {
    "ExecuteTime": {
     "end_time": "2023-07-17T18:37:33.096555Z",
     "start_time": "2023-07-17T18:37:33.075357Z"
    }
   },
   "outputs": [
    {
     "ename": "NameError",
     "evalue": "name 'mean_squarred' is not defined",
     "output_type": "error",
     "traceback": [
      "\u001b[0;31m---------------------------------------------------------------------------\u001b[0m",
      "\u001b[0;31mNameError\u001b[0m                                 Traceback (most recent call last)",
      "Cell \u001b[0;32mIn[14], line 1\u001b[0m\n\u001b[0;32m----> 1\u001b[0m \u001b[38;5;28mprint\u001b[39m(\u001b[38;5;124m'\u001b[39m\u001b[38;5;124mMutiple Linear Regression KFold Average\u001b[39m\u001b[38;5;124m'\u001b[39m, \u001b[38;5;28mround\u001b[39m(mean(\u001b[43mmean_squarred\u001b[49m), \u001b[38;5;241m2\u001b[39m))\n",
      "\u001b[0;31mNameError\u001b[0m: name 'mean_squarred' is not defined"
     ]
    }
   ],
   "source": [
    "print('Mutiple Linear Regression KFold Average', round(mean(mean_squarred), 2))"
   ]
  },
  {
   "cell_type": "code",
   "execution_count": null,
   "id": "db608319",
   "metadata": {
    "ExecuteTime": {
     "end_time": "2023-07-17T18:34:17.882615Z",
     "start_time": "2023-07-17T18:34:17.882597Z"
    }
   },
   "outputs": [],
   "source": [
    "kfold_for_mutiple_linear_regression()"
   ]
  },
  {
   "cell_type": "code",
   "execution_count": null,
   "id": "f4886a72",
   "metadata": {
    "ExecuteTime": {
     "end_time": "2023-07-17T18:34:17.885116Z",
     "start_time": "2023-07-17T18:34:17.885083Z"
    }
   },
   "outputs": [],
   "source": [
    "def cross_val_for_random_forest():\n",
    "    random_forest =random_forest = RandomForestRegressor(n_estimators=100, random_state=0)\n",
    "    random_forest_prediction_score = cross_validate(random_forest, features,happiness, cv = 5,scoring=('r2', 'neg_mean_squared_error')) \n",
    "    print(random_forest_prediction_score)"
   ]
  },
  {
   "cell_type": "code",
   "execution_count": null,
   "id": "f9ffa07a",
   "metadata": {
    "ExecuteTime": {
     "end_time": "2023-07-17T18:34:17.888506Z",
     "start_time": "2023-07-17T18:34:17.888478Z"
    }
   },
   "outputs": [],
   "source": [
    "cross_val_for_random_forest()"
   ]
  },
  {
   "cell_type": "code",
   "execution_count": null,
   "id": "b706a2b3",
   "metadata": {
    "ExecuteTime": {
     "end_time": "2023-07-17T18:34:17.891120Z",
     "start_time": "2023-07-17T18:34:17.891101Z"
    }
   },
   "outputs": [],
   "source": [
    "def cross_val_for_decision_tree():\n",
    "   decision_tree = tree.DecisionTreeRegressor(random_state=0)\n",
    "   decision_tree_prediction_score = cross_validate(decision_tree, features,happiness, cv = 5,scoring=('r2', 'neg_mean_squared_error'))\n",
    "   print(decision_tree_prediction_score)"
   ]
  },
  {
   "cell_type": "code",
   "execution_count": null,
   "id": "c12b65d2",
   "metadata": {
    "ExecuteTime": {
     "end_time": "2023-07-17T18:34:17.893076Z",
     "start_time": "2023-07-17T18:34:17.893024Z"
    }
   },
   "outputs": [],
   "source": [
    "cross_val_for_decision_tree()"
   ]
  }
 ],
 "metadata": {
  "kernelspec": {
   "display_name": "Python 3 (ipykernel)",
   "language": "python",
   "name": "python3"
  },
  "language_info": {
   "codemirror_mode": {
    "name": "ipython",
    "version": 3
   },
   "file_extension": ".py",
   "mimetype": "text/x-python",
   "name": "python",
   "nbconvert_exporter": "python",
   "pygments_lexer": "ipython3",
   "version": "3.9.15"
  }
 },
 "nbformat": 4,
 "nbformat_minor": 5
}
